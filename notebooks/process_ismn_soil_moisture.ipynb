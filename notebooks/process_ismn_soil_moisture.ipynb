{
 "cells": [
  {
   "cell_type": "code",
   "execution_count": null,
   "id": "9252d9b2",
   "metadata": {},
   "outputs": [],
   "source": [
    "\"\"\"\n",
    "Script to read, process, and save ISMN soil moisture data.\n",
    "\n",
    "This script performs the following tasks:\n",
    "1. Loads raw soil moisture files from the ISMN network matching\n",
    "   specific depth patterns (0–0.05 m).\n",
    "2. Filters the data by date and quality flags, averaging multiple\n",
    "   measurements per day if needed.\n",
    "3. Stores metadata for each station, including network name, station\n",
    "   name, and coordinates.\n",
    "4. Saves the processed soil moisture data and metadata into a single\n",
    "   pickle file for later use in analysis or visualization.\n",
    "\n",
    "All paths, date ranges, and file name patterns are modifiable.\n",
    "\"\"\"\n",
    "\n",
    "# Author: Gerard Portal\n",
    "# Date: August 29, 2025  \n",
    "# Contact: gerardportal@gmail.com"
   ]
  },
  {
   "cell_type": "code",
   "execution_count": null,
   "id": "6028d39b-bc18-4879-890f-7b44bf41dac8",
   "metadata": {},
   "outputs": [],
   "source": [
    "# Import libraries\n",
    "\n",
    "from glob import glob\n",
    "from datetime import datetime, timedelta\n",
    "import pandas as pd\n",
    "import numpy as np\n",
    "from pathlib import Path\n",
    "import pickle"
   ]
  },
  {
   "cell_type": "code",
   "execution_count": null,
   "id": "7eba5de1-6f93-490c-8fb7-26970e4edc3c",
   "metadata": {},
   "outputs": [],
   "source": [
    "# Variable initialization\n",
    "\n",
    "# Time period for which the SM maps will be generated (MODIFIABLE)\n",
    "date_ini = datetime(2019,1,1)\n",
    "date_fin = datetime(2022,12,31)\n",
    "\n",
    "# Data folder path (MODIFIABLE)\n",
    "hdd = 'E' # Drive letter (C,F,G,...)\n",
    "path_dir = hdd+':/Path to the downloaded ISMN soil moisture data/'\n",
    "path_is = hdd+':/Path where the resulting file containing all the data will be saved/'"
   ]
  },
  {
   "cell_type": "code",
   "execution_count": null,
   "id": "aee188e9",
   "metadata": {},
   "outputs": [],
   "source": [
    "# Retrieve the full path of files matching specific patterns\n",
    "# In this case, the target is soil moisture data for depths between 0 and 0.05 meters\n",
    "\n",
    "str_name = ['*_sm_0.05*_0.05*_*.stm','*_sm_0.000000_0.05*_*.stm'] # Name pattern (MODIFIABLE)\n",
    "file_names = []\n",
    "for pattern in str_name:\n",
    "    file_names.extend(path_dir.rglob(pattern))"
   ]
  },
  {
   "cell_type": "code",
   "execution_count": null,
   "id": "81e5f99b",
   "metadata": {},
   "outputs": [],
   "source": [
    "# Loading and processing measurements from all in situ stations\n",
    "\n",
    "sm_insitu = np.full((len(file_names),(date_fin-date_ini).days+1),np.nan)\n",
    "data = []\n",
    "for i_file in range(len(file_names)):\n",
    "    df = pd.read_csv(file_names[i_file], sep='\\s+')\n",
    "    dates_ar = df.iloc[:,0].values # Constains the dates: YYYY/MM/DD\n",
    "    hour_ar = df.iloc[:,1].values # Contains the hours: HH:MM\n",
    "    sm_ar = df.iloc[:,2].values # Contains the soil moisture values in m³/m³\n",
    "    flag_ar = df.iloc[:,3].values # Contains the quality flags, G: Good\n",
    "    info_ar = list(df.columns.values[0:8]) # Contains the name of the network, the name of the station, and the coordinates where the station is located\n",
    "    tmp_name = ' '.join(df.columns.values[8:])\n",
    "    info_ar.append(tmp_name)\n",
    "    data.append(info_ar)\n",
    "\n",
    "    current_date = date_ini\n",
    "    while current_date<=date_fin:\n",
    "        i_day = (current_date-date_ini).days\n",
    "        tmp_date = current_date.strftime('%Y/%m/%d')\n",
    "        tmp_pos = np.where( (dates_ar==tmp_date) & (flag_ar=='G') )[0] # Filter by date and quality flag. Time can also be specified, e.g., \"...& (hour_ar=='07:00')\".\n",
    "        tmp = sm_ar[tmp_pos]\n",
    "        # In this example, all hours are selected, and the soil moisture for the selected hours is averaged.\n",
    "        if len(tmp)>0:\n",
    "            sm_insitu[i_file,i_day]= np.nanmean(tmp)\n",
    "        current_date += timedelta(days=1)\n",
    "    processed = 100*(i_file+1)/len(file_names)\n",
    "    print(f'Processed: {processed:.2f}%', end='\\r')\n",
    "data = np.stack(data)"
   ]
  },
  {
   "cell_type": "code",
   "execution_count": null,
   "id": "3e4c65a7",
   "metadata": {},
   "outputs": [],
   "source": [
    "# Save in situ station data, including metadata (network name, station name, coordinates) and soil moisture values\n",
    "\n",
    "with open(path_is+'ISMN_SM_'+date_ini.strftime('%Y%m%d')+'_'+date_fin.strftime('%Y%m%d')+'.pckl','wb') as f:\n",
    "    pickle.dump([sm_insitu,data],f)"
   ]
  }
 ],
 "metadata": {
  "kernelspec": {
   "display_name": "Gerard",
   "language": "python",
   "name": "python3"
  },
  "language_info": {
   "codemirror_mode": {
    "name": "ipython",
    "version": 3
   },
   "file_extension": ".py",
   "mimetype": "text/x-python",
   "name": "python",
   "nbconvert_exporter": "python",
   "pygments_lexer": "ipython3",
   "version": "3.11.10"
  }
 },
 "nbformat": 4,
 "nbformat_minor": 5
}
